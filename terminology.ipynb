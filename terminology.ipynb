{
 "cells": [
  {
   "cell_type": "code",
   "execution_count": null,
   "metadata": {},
   "outputs": [],
   "source": [
    "#4 pillaars of oop\n",
    "#Ecapsulaion\n",
    "#this is grouping function and stuuf into an object e.g classes and functions\n",
    "\n",
    "#abstraction\n",
    "#this is hiding the properties and bacgroung code from the outside(the programmer) e.g methods like .upper\n"
   ]
  }
 ],
 "metadata": {
  "language_info": {
   "name": "python"
  }
 },
 "nbformat": 4,
 "nbformat_minor": 2
}
