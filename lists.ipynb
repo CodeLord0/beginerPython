{
 "cells": [
  {
   "cell_type": "code",
   "execution_count": null,
   "metadata": {},
   "outputs": [],
   "source": [
    "colour=['red','green','blue','orange','white']\n",
    "print(colour)\n",
    "\n",
    "#index shows the position of items in the list\n",
    "#index starts form 0\n",
    "\n",
    "print(colour[0])\n",
    "#-1 starts from the end of the list\n",
    "#index can still have methods just like stringsb\n",
    "print(colour[-1])\n"
   ]
  },
  {
   "cell_type": "code",
   "execution_count": null,
   "metadata": {},
   "outputs": [],
   "source": [
    "#to modify items in a list, use replace it from the index\n",
    "# .append adds elements to the end of a list\n",
    "# .insert(index,value) to insert an elelmt to a specific location in the list\n",
    "people=['ben','james','jack','william','sam']\n",
    "people.append('john')\n",
    "del people([0])#this doesnt work because it is trying to 'call' people as if it is a function\n"
   ]
  },
  {
   "cell_type": "code",
   "execution_count": null,
   "metadata": {},
   "outputs": [],
   "source": [
    "people=['ben','james','jack','william','sam']\n",
    "people.append('john')\n",
    "del people([0])"
   ]
  },
  {
   "cell_type": "code",
   "execution_count": null,
   "metadata": {},
   "outputs": [],
   "source": [
    "# Define a variable with an integer value\n",
    "x = 10\n",
    "\n",
    "# Attempt to call the integer as if it were a function\n",
    "x()"
   ]
  },
  {
   "cell_type": "code",
   "execution_count": null,
   "metadata": {},
   "outputs": [],
   "source": [
    "# num1=567\n",
    "# num2=649\n",
    "num=[34,83]\n",
    "def add_num():\n",
    "    result= num[0]+num[1]\n",
    "    print(result)\n",
    "\n",
    "def mul_num():\n",
    "    res=num[0]*num[1]\n",
    "    print(res)\n",
    "\n",
    "add_num()\n",
    "mul_num()\n"
   ]
  },
  {
   "cell_type": "code",
   "execution_count": null,
   "metadata": {},
   "outputs": [],
   "source": [
    "#single and multidimential list\n",
    "# a single dimentional list that does notcontain another list \n",
    "# a multi_dimentional list contains a list in a list\n",
    "single_dimential_list=[12,3,4,4,5,6,7]#this is a single dimentional list and can be asseced with basic indexing\n",
    "\n",
    "multidimential_list=[[12,8,4,6],'him',6]\n",
    "#to acess a list in a multidimentional list use the index of the location of the inner list\n",
    "print(multidimential_list[0])\n"
   ]
  },
  {
   "cell_type": "code",
   "execution_count": null,
   "metadata": {},
   "outputs": [],
   "source": [
    "#how do you acess b\n",
    "mylist3=[[1,2,3],['a','b','c'],5,6]\n",
    "print(mylist3[1][1])"
   ]
  },
  {
   "cell_type": "code",
   "execution_count": null,
   "metadata": {},
   "outputs": [],
   "source": [
    "#add ing elements to a list\n",
    "# .append() adds an item to the end of the list\n",
    "#.insert() adds an item to a specific location in the list and has two arguments(position,value)\n",
    "#.extend() adds a list into another list\n"
   ]
  },
  {
   "cell_type": "code",
   "execution_count": 18,
   "metadata": {},
   "outputs": [
    {
     "data": {
      "text/plain": [
       "['skd', 'sbbfdsf', 'adns']"
      ]
     },
     "execution_count": 18,
     "metadata": {},
     "output_type": "execute_result"
    }
   ],
   "source": [
    "#input a list using .split and takes to argumnet(spearator,maxsplit)if not provided it is by default\n",
    "#\n",
    "h=input()\n",
    "h.split()"
   ]
  },
  {
   "cell_type": "code",
   "execution_count": 23,
   "metadata": {},
   "outputs": [
    {
     "data": {
      "text/plain": [
       "['him', 'why']"
      ]
     },
     "execution_count": 23,
     "metadata": {},
     "output_type": "execute_result"
    }
   ],
   "source": [
    "#removing items in a list\n",
    "#.removes() removes specific elements in a list .remove(element)\n",
    "#.pop() removes at a specific index but also return the removed item. if index not specified, tlast itrm will be removed\n",
    "# del delets from a spified index or the entire list including the variable\n",
    "#.clear() only clearts the items the list \n",
    "remove_test=['him','then','why']\n",
    "remove_test.pop(1)\n",
    "remove_test"
   ]
  },
  {
   "cell_type": "code",
   "execution_count": 27,
   "metadata": {},
   "outputs": [
    {
     "data": {
      "text/plain": [
       "['james', 'chad', 'criag']"
      ]
     },
     "execution_count": 27,
     "metadata": {},
     "output_type": "execute_result"
    }
   ],
   "source": [
    "#list comprehension\n",
    "#list comprehension provides shorter syntax while creating a new list from an existing list\n",
    "list1=['james','chad','criag']\n",
    "list2=[name for name in list1]#[expression for an iterable optional(if condtional == True)]\n",
    "list2"
   ]
  },
  {
   "cell_type": "code",
   "execution_count": 29,
   "metadata": {},
   "outputs": [
    {
     "data": {
      "text/plain": [
       "['Lion', 'Tiger', 'Monkey', 'Frog']"
      ]
     },
     "execution_count": 29,
     "metadata": {},
     "output_type": "execute_result"
    }
   ],
   "source": [
    "animals=['lion','tiger','monkey','frog']\n",
    "filtered_list=[animal.title() for animal in animals]\n",
    "filtered_list"
   ]
  }
 ],
 "metadata": {
  "kernelspec": {
   "display_name": "Python 3",
   "language": "python",
   "name": "python3"
  },
  "language_info": {
   "codemirror_mode": {
    "name": "ipython",
    "version": 3
   },
   "file_extension": ".py",
   "mimetype": "text/x-python",
   "name": "python",
   "nbconvert_exporter": "python",
   "pygments_lexer": "ipython3",
   "version": "3.12.4"
  }
 },
 "nbformat": 4,
 "nbformat_minor": 2
}
