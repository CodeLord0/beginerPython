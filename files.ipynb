{
 "cells": [
  {
   "cell_type": "code",
   "execution_count": 7,
   "metadata": {},
   "outputs": [
    {
     "name": "stdout",
     "output_type": "stream",
     "text": [
      "r\n"
     ]
    }
   ],
   "source": [
    "\n",
    "# a less efficient way of opening and closing files\n",
    "# f = open('test.txt','r') # opens a file for reading\n",
    "# print(f.mode)\n",
    "# f.close()"
   ]
  },
  {
   "cell_type": "code",
   "execution_count": 69,
   "metadata": {},
   "outputs": [
    {
     "name": "stdout",
     "output_type": "stream",
     "text": [
      "Hello World\n",
      "\n",
      "Hello World\n",
      "\n"
     ]
    }
   ],
   "source": [
    "with open('test.txt', 'r') as file:\n",
    "    file_contents = file.readline() # this reads a line of the file per assignment/call\n",
    "    #file_contents = file.readlines() # this reades the first line of the file\n",
    "    \n",
    "    "
   ]
  },
  {
   "cell_type": "code",
   "execution_count": 88,
   "metadata": {},
   "outputs": [
    {
     "name": "stdout",
     "output_type": "stream",
     "text": [
      "Hello Worl*d\n",
      "Hello Tr*istan\n",
      "hell*o 1\n",
      "hello *2\n",
      "hello 3\n",
      "*hello 4*62\n"
     ]
    }
   ],
   "source": [
    "\n",
    "#passing a number read that number of characters and returns an empty string if the limit is passedsize_to_read\n",
    "with open('test.txt', 'r') as file:\n",
    "    \n",
    "    size_to_read = 10 #initalize number of characters\n",
    "\n",
    "    file_contents = file.read(size_to_read) # number of characters of sizetoread\n",
    "\n",
    "    while len(file_contents) > 0: # loops until file contents is 0\n",
    "        print(file_contents,end='*') \n",
    "        file_contents = file.read(size_to_read)\n",
    "    print(file.tell()) # print the current postion of of the file\n"
   ]
  },
  {
   "cell_type": "code",
   "execution_count": 92,
   "metadata": {},
   "outputs": [
    {
     "name": "stdout",
     "output_type": "stream",
     "text": [
      "Hello Worl\n",
      "10\n",
      "0\n"
     ]
    }
   ],
   "source": [
    "with open('test.txt', 'r') as file:\n",
    "    file_contents = file.read(10)\n",
    "    print(file_contents)\n",
    "    print(file.tell()) # prints the current character read location \n",
    "    file.seek(0) # sets the current read location position\n",
    "    print(file.tell())# prints the current read location of the file"
   ]
  },
  {
   "cell_type": "code",
   "execution_count": 100,
   "metadata": {},
   "outputs": [],
   "source": [
    "# writing files\n",
    "with open('test2.txt','w') as file:\n",
    "    pass"
   ]
  }
 ],
 "metadata": {
  "kernelspec": {
   "display_name": "Python 3",
   "language": "python",
   "name": "python3"
  },
  "language_info": {
   "codemirror_mode": {
    "name": "ipython",
    "version": 3
   },
   "file_extension": ".py",
   "mimetype": "text/x-python",
   "name": "python",
   "nbconvert_exporter": "python",
   "pygments_lexer": "ipython3",
   "version": "3.12.4"
  }
 },
 "nbformat": 4,
 "nbformat_minor": 2
}
