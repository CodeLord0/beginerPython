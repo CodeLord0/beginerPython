{
 "cells": [
  {
   "cell_type": "code",
   "execution_count": 23,
   "metadata": {},
   "outputs": [
    {
     "name": "stdout",
     "output_type": "stream",
     "text": [
      "0 j\n",
      "1 a\n",
      "2 m\n",
      "3 e\n",
      "4 s\n"
     ]
    }
   ],
   "source": [
    "#enumerate iterates through an iterable and returns it index and value\n",
    "\n",
    "lists = 'james'\n",
    "for x,y in list(enumerate(lists)):\n",
    "    print(x,y)  #prints index and value of the list. Index starts from 0."
   ]
  }
 ],
 "metadata": {
  "kernelspec": {
   "display_name": "Python 3",
   "language": "python",
   "name": "python3"
  },
  "language_info": {
   "codemirror_mode": {
    "name": "ipython",
    "version": 3
   },
   "file_extension": ".py",
   "mimetype": "text/x-python",
   "name": "python",
   "nbconvert_exporter": "python",
   "pygments_lexer": "ipython3",
   "version": "3.12.4"
  }
 },
 "nbformat": 4,
 "nbformat_minor": 2
}
