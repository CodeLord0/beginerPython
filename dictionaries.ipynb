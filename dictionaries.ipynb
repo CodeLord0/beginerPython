{
 "cells": [
  {
   "cell_type": "code",
   "execution_count": 11,
   "metadata": {},
   "outputs": [
    {
     "data": {
      "text/plain": [
       "{'a': 1, 'b': 2, 'c': 3}"
      ]
     },
     "execution_count": 11,
     "metadata": {},
     "output_type": "execute_result"
    }
   ],
   "source": [
    "#dictionary is a collection of key value pairs\n",
    "#duplicate items cannot be stored in a dictionary. if there are duplicates the later key,value pair will be stored\n",
    "\n",
    "car={'key':'value1', 'key2': 'value2', 'key3' : 'value3'} \n",
    "\n",
    "#values can be fetched from the key\n",
    "car['key']\n",
    "\n",
    "#dictionaries are mutable\n",
    "car['key'] = 'honda'# this changes value1 to honda\n",
    "car\n",
    "\n",
    "#length of a dictionary\n",
    "#this calulates the number of key-value pars in the dictionary\n",
    "len(car)\n",
    "\n",
    "#dictionaries can also be made with the dict constructor\n",
    "a=dict(a=1,b=2,c=3)#this maps each key(letters) to a value(numbers) and creates a new dictionaryb\n",
    "a\n"
   ]
  },
  {
   "cell_type": "code",
   "execution_count": 18,
   "metadata": {},
   "outputs": [
    {
     "data": {
      "text/plain": [
       "dict_items([('hp', 'good'), ('dell', 'ok')])"
      ]
     },
     "execution_count": 18,
     "metadata": {},
     "output_type": "execute_result"
    }
   ],
   "source": [
    "#accessing elements in a dictionary\n",
    "\n",
    "\n",
    "#acessing values using key names\n",
    "laptops={'hp':'good' , 'dell' : 'ok'}\n",
    "laptops['hp']\n",
    "\n",
    "#acessing values using get() method. this acesses only keys\n",
    "laptops.get('dell')\n",
    "\n",
    "#acessing values using the key() method\n",
    "#it returns a view object containing keys as a list\n",
    "#view object reflects any changes made to the dictionary\n",
    "laptops.keys()\n",
    "\n",
    "#acessing values using the values() method\n",
    "laptops.values()\n",
    "\n",
    "#acessing values using the keys() method\n",
    "laptops.keys()\n",
    "\n",
    "#acessing items using the items() method\n",
    "#this returns a view objects of key-valuies pairs which are nested in a tuple\n",
    "laptops.items()\n",
    "\n",
    "\n"
   ]
  },
  {
   "cell_type": "code",
   "execution_count": 32,
   "metadata": {},
   "outputs": [
    {
     "data": {
      "text/plain": [
       "{'tv': 'monitor',\n",
       " 'printer': 'printing',\n",
       " 'scanner': 'scanning',\n",
       " 'phone': 'scroll',\n",
       " 'charger': 'charging'}"
      ]
     },
     "execution_count": 32,
     "metadata": {},
     "output_type": "execute_result"
    }
   ],
   "source": [
    "#changing and adding dictinoary items\n",
    "\n",
    "electronic={'tv':'screen','printer':'printing', 'scanner':'watching'}\n",
    "electronic['tv']='monitor'#this changes the value of tv to monitor\n",
    "\n",
    "#changing values using update({key:new value})\n",
    "electronic.update({'scanner':'scanning'})\n",
    "\n",
    "#adding new items using key names \n",
    "electronic['phone']='scroll'\n",
    "\n",
    "#adding new items using update method\n",
    "electronic.update({'charger':'charging'})\n",
    "electronic\n"
   ]
  },
  {
   "cell_type": "code",
   "execution_count": 42,
   "metadata": {},
   "outputs": [],
   "source": [
    "#removing items in a dictionary\n",
    "\n",
    "#removing an item using the pop() method\n",
    "score={'jack':10 , 'philip':60 ,'tris': 100 , 'lordx' : 90 , 'bond' : 50 }\n",
    "score.pop('jack')#this removes jack and its value and returns the value\n",
    "\n",
    "#removing an item using popitem() method\n",
    "#this removes the last item in the dictinary and returns it as a tuple\n",
    "score.popitem()\n",
    "\n",
    "#removing an entire dictinory using del keyword\n",
    "#del score\n",
    "\n",
    "#empty a dictinoary using  clear() method\n",
    "score.clear()"
   ]
  },
  {
   "cell_type": "code",
   "execution_count": 51,
   "metadata": {},
   "outputs": [
    {
     "data": {
      "text/plain": [
       "[21, 43]"
      ]
     },
     "execution_count": 51,
     "metadata": {},
     "output_type": "execute_result"
    }
   ],
   "source": [
    "#copying a dictionary in python\n",
    "\n",
    "#the assignment operator(=) can be used to copy immutable objects\n",
    "#it cant be used to copy mutuable objects.\n",
    "# ab=[21]\n",
    "# ab_copy=ab\n",
    "# ab_copy\n",
    "# ab_copy.append(43)\n",
    "# ab_copy\n",
    "#this is because ab and ab_copy are pointing tot the same memory\n",
    "# ab--->[43]<---ab_copy\n",
    "#the copy method creates a sepatate reference in memory\n",
    "\n",
    "country={ 'enland':'english' , 'france':'french' }\n",
    "country_copy=country.copy()#this creates a copy of country in a separate memory\n",
    " \n",
    "\n",
    "#copy a dictionary using dict() method\n",
    "country_copy1= dict(country)\n",
    "\n",
    " "
   ]
  }
 ],
 "metadata": {
  "kernelspec": {
   "display_name": "Python 3",
   "language": "python",
   "name": "python3"
  },
  "language_info": {
   "codemirror_mode": {
    "name": "ipython",
    "version": 3
   },
   "file_extension": ".py",
   "mimetype": "text/x-python",
   "name": "python",
   "nbconvert_exporter": "python",
   "pygments_lexer": "ipython3",
   "version": "3.12.4"
  }
 },
 "nbformat": 4,
 "nbformat_minor": 2
}
