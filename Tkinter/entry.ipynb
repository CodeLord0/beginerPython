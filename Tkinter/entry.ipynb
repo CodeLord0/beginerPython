{
 "cells": [
  {
   "cell_type": "code",
   "execution_count": 1,
   "metadata": {},
   "outputs": [],
   "source": [
    "from tkinter import *\n",
    "root = Tk()\n",
    "\n",
    "def click():\n",
    "    mylabel=Label(root,text=entry.get())\n",
    "    mylabel.pack()\n",
    "\n",
    "btn= Button(root,text=\"Enter your name\",padx=32,command=click,fg='orange',bg='black')\n",
    "entry=Entry(root)\n",
    "entry.pack()\n",
    "btn.pack()\n",
    "  \n",
    "\n",
    "\n",
    "root.mainloop()"
   ]
  }
 ],
 "metadata": {
  "kernelspec": {
   "display_name": "Python 3",
   "language": "python",
   "name": "python3"
  },
  "language_info": {
   "codemirror_mode": {
    "name": "ipython",
    "version": 3
   },
   "file_extension": ".py",
   "mimetype": "text/x-python",
   "name": "python",
   "nbconvert_exporter": "python",
   "pygments_lexer": "ipython3",
   "version": "3.12.4"
  },
  "orig_nbformat": 4
 },
 "nbformat": 4,
 "nbformat_minor": 2
}
