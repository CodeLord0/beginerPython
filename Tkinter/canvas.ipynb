{
 "cells": [
  {
   "cell_type": "code",
   "execution_count": 16,
   "metadata": {},
   "outputs": [
    {
     "data": {
      "text/plain": [
       "1"
      ]
     },
     "execution_count": 16,
     "metadata": {},
     "output_type": "execute_result"
    }
   ],
   "source": [
    "from tkinter import *\n",
    "\n",
    "tk = Tk()\n",
    "canvas = Canvas(tk,width=500, height=500)\n",
    "canvas.pack()\n",
    "canvas.create_line(0,0,500,500)\n",
    "\n",
    "\n"
   ]
  },
  {
   "cell_type": "code",
   "execution_count": 15,
   "metadata": {},
   "outputs": [],
   "source": [
    "from tkinter import *\n",
    "\n",
    "tk = Tk()\n",
    "canvas = Canvas(tk,width=500, height=500)\n",
    "canvas.pack()\n",
    "canvas.create_line(10,10,50,10)\n",
    "tk.mainloop()\n",
    "\n"
   ]
  },
  {
   "cell_type": "code",
   "execution_count": 85,
   "metadata": {},
   "outputs": [],
   "source": [
    "# x1 is th \n",
    "from tkinter import *\n",
    "tk = Tk()\n",
    "canvas = Canvas(tk, width=100, height=100)\n",
    "canvas.pack()\n",
    "canvas.create_rectangle(50, 50, 80, 70)\n",
    "# \n",
    "tk.mainloop()"
   ]
  },
  {
   "cell_type": "code",
   "execution_count": 96,
   "metadata": {},
   "outputs": [],
   "source": [
    "from tkinter import *\n",
    "import random\n",
    "tk = Tk()\n",
    "canvas = Canvas(tk, width=400, height=400)\n",
    "canvas.pack()\n",
    "\n",
    "def random_rectangle(width, height):\n",
    "    x1 = random.randrange(width)\n",
    "    y1 = random.randrange(height)\n",
    "    x2 = x1 + random.randrange(width)\n",
    "    y2 = y1 + random.randrange(height)\n",
    "    canvas.create_rectangle(x1, y1, x2, y2)\n",
    "for x in range(100):\n",
    "    random_rectangle(400, 400)\n",
    "#random_rectangle(400,400)\n",
    "tk.mainloop()\n"
   ]
  },
  {
   "cell_type": "code",
   "execution_count": 1,
   "metadata": {},
   "outputs": [],
   "source": [
    "# display random rects with colour\n",
    "from tkinter import *\n",
    "from tkinter import colorchooser\n",
    "import random\n",
    "tk = Tk()\n",
    "c= colorchooser.askcolor()\n",
    "canvas = Canvas(tk, width=400, height=400)\n",
    "canvas.pack()\n",
    "def random_rectangle(width, height, fill_color):\n",
    "    x1 = random.randrange(width)\n",
    "    y1 = random.randrange(height)\n",
    "    x2 = random.randrange(x1 + random.randrange(width)) # add the x1 coordiate to avoid inverse positions\n",
    "    y2 = random.randrange(y1 + random.randrange(height)) # add the y1 coordiate to avoid inverse positions\n",
    "    canvas.create_rectangle(x1, y1, x2, y2, fill=fill_color)\n",
    "\n",
    "random_rectangle(400, 400, c[1])\n",
    "# random_rectangle(400, 400, 'red')\n",
    "# random_rectangle(400, 400, 'blue')\n",
    "# random_rectangle(400, 400, 'orange')\n",
    "# random_rectangle(400, 400, 'yellow')\n",
    "# random_rectangle(400, 400, 'pink')\n",
    "# random_rectangle(400, 400, 'purple')\n",
    "# random_rectangle(400, 400, 'violet')\n",
    "# random_rectangle(400, 400, 'magenta')\n",
    "# random_rectangle(400, 400, 'cyan')\n",
    "tk.mainloop()\n"
   ]
  },
  {
   "cell_type": "code",
   "execution_count": 42,
   "metadata": {},
   "outputs": [],
   "source": [
    "#drawing arcs\n",
    "from tkinter import *\n",
    "tk = Tk()\n",
    "from tkinter import *\n",
    "\n",
    "canvas = Canvas(tk, width=400, height=400)\n",
    "canvas.pack()\n",
    "canvas.create_arc(10, 10, 200, 80, extent=45, style=ARC)\n",
    "canvas.create_arc(10, 80, 200, 160, extent=90, style=ARC)\n",
    "canvas.create_arc(10, 160, 200, 240, extent=135, style=ARC)\n",
    "canvas.create_arc(10, 240, 200, 320, extent=180, style=ARC)\n",
    "canvas.create_arc(10, 320, 200, 400, extent=359, style=ARC)\n",
    "tk.mainloop()"
   ]
  },
  {
   "cell_type": "code",
   "execution_count": 60,
   "metadata": {},
   "outputs": [],
   "source": [
    "# drawing polygons\n",
    "from tkinter import *\n",
    "tk = Tk()\n",
    "canvas = Canvas(tk, width=400, height=400)\n",
    "canvas.pack()\n",
    "canvas.create_polygon(10,10,10,100,30,10,60,100,fill=\"\",outline=\"black\")\n",
    "tk.mainloop()"
   ]
  },
  {
   "cell_type": "code",
   "execution_count": 41,
   "metadata": {},
   "outputs": [],
   "source": [
    "# print text onto the canvas\n",
    "from tkinter import *\n",
    "tk = Tk()\n",
    "canvas = Canvas(tk, width=400, height=400)\n",
    "canvas.pack()\n",
    "canvas.create_text(150, 100, text='There once was a man from Toulouse,')\n",
    "\n",
    "canvas.create_text(150, 150, text='He said, \"It\\'s my curse,',font=('Times', 15))\n",
    "canvas.create_text(200, 200, text='But it could be worse,',font=('Helvetica', 20))\n",
    "canvas.create_text(220, 250, text='My cousin rides round',font=('Courier', 22))\n",
    "canvas.create_text(220, 300, text='on a goose.\"', font=('Cascadia mono', 30))\n",
    "\n",
    "tk.mainloop()"
   ]
  },
  {
   "cell_type": "code",
   "execution_count": 40,
   "metadata": {},
   "outputs": [],
   "source": [
    "# add imagesgifs to tkinter\n",
    "from tkinter import *\n",
    "tk = Tk()\n",
    "canvas = Canvas(tk, width=400, height=400)\n",
    "canvas.pack()\n",
    "my_image = PhotoImage(file=r'c:\\Users\\HP\\Desktop\\Python\\Tkinter\\lest.gif') # r to ignore back slash\n",
    "canvas.create_image(100,30, anchor=NE, image=my_image)\n",
    " \n",
    "tk.mainloop()"
   ]
  },
  {
   "cell_type": "code",
   "execution_count": 5,
   "metadata": {},
   "outputs": [],
   "source": [
    "# basic animation\n",
    "import time\n",
    "from tkinter import *\n",
    "tk = Tk()\n",
    "canvas = Canvas(tk, width=400, height=400)\n",
    "canvas.pack()\n",
    "canvas.create_polygon(10, 10, 10, 60, 50, 35)\n",
    "\n",
    "for x in range(0, 60):# start, move down\n",
    "    canvas.move(1,5,3) # (id,x,y)\n",
    "    tk.update()\n",
    "    time.sleep(0.015) # tells python to sleep\n",
    "for x in range(0, 60): # move back to start\n",
    " canvas.move(1, -5, -5)\n",
    " tk.update()\n",
    " time.sleep(0.05)\n",
    "tk.mainloop()"
   ]
  },
  {
   "cell_type": "code",
   "execution_count": 19,
   "metadata": {},
   "outputs": [
    {
     "ename": "TypeError",
     "evalue": "movetriangle() missing 1 required positional argument: 'event'",
     "output_type": "error",
     "traceback": [
      "\u001b[1;31m---------------------------------------------------------------------------\u001b[0m",
      "\u001b[1;31mTypeError\u001b[0m                                 Traceback (most recent call last)",
      "Cell \u001b[1;32mIn[19], line 21\u001b[0m\n\u001b[0;32m     19\u001b[0m     tk\u001b[38;5;241m.\u001b[39mmainloop()\n\u001b[0;32m     20\u001b[0m tk\u001b[38;5;241m.\u001b[39mmainloop()\n\u001b[1;32m---> 21\u001b[0m \u001b[43mmovetriangle\u001b[49m\u001b[43m(\u001b[49m\u001b[43m)\u001b[49m\n",
      "\u001b[1;31mTypeError\u001b[0m: movetriangle() missing 1 required positional argument: 'event'"
     ]
    }
   ],
   "source": [
    "\n",
    "from tkinter import *\n",
    "\n",
    "tk = Tk()\n",
    "canvas = Canvas(tk, width=400, height=400)\n",
    "canvas.pack()\n",
    "canvas.create_polygon(10, 10, 10, 60, 50, 35)\n",
    "def movetriangle(event):\n",
    "    canvas.move(1, 5, 0)\n",
    "    canvas.bind_all('<KeyPress-Enter>', movetriangle)\n",
    "\n",
    "def movetriangle(event):\n",
    "    if event.keysym == 'Up':\n",
    "        canvas.move(1, 0, -3)\n",
    "    elif event.keysym == 'Down':\n",
    "        canvas.move(1, 0, 3)\n",
    "    elif event.keysym == 'Left':\n",
    "        canvas.move(1, -3, 0)\n",
    "    else:\n",
    "        canvas.move(1, 3, 0)\n",
    "    \n",
    "tk.mainloop()\n",
    "movetriangle()"
   ]
  }
 ],
 "metadata": {
  "kernelspec": {
   "display_name": "Python 3",
   "language": "python",
   "name": "python3"
  },
  "language_info": {
   "codemirror_mode": {
    "name": "ipython",
    "version": 3
   },
   "file_extension": ".py",
   "mimetype": "text/x-python",
   "name": "python",
   "nbconvert_exporter": "python",
   "pygments_lexer": "ipython3",
   "version": "3.12.4"
  }
 },
 "nbformat": 4,
 "nbformat_minor": 2
}
