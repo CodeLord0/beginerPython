{
 "cells": [
  {
   "cell_type": "code",
   "execution_count": null,
   "metadata": {},
   "outputs": [],
   "source": [
    "# shallow copy objects\n",
    "import copy\n",
    "class MyClass:\n",
    "    def __init__(self, value):\n",
    "        self.value = value\n",
    "\n",
    "        \n",
    "    def set_value(self, new_value):\n",
    "        self.value = new_value\n",
    "\n",
    "# Original list with instances of MyClass\n",
    "A = [MyClass(1), MyClass(2)]\n",
    "\n",
    "# Shallow copy of the list\n",
    "B = A.copy()\n",
    "\n",
    "# Modify the outer container\n",
    "B.append(MyClass(3))\n",
    "\n",
    "# Modify an inner object\n",
    "B[0].set_value(99)\n",
    "\n",
    "# Output both lists\n",
    "print(A)  # Output: [MyClass(99), MyClass(2)]\n",
    "print(B)  # Output: [MyClass(99), MyClass(2), MyClass(3)]\n"
   ]
  },
  {
   "cell_type": "code",
   "execution_count": null,
   "metadata": {},
   "outputs": [],
   "source": [
    "# pickle\n",
    "import pickle\n",
    "with open('save.dat', 'wb') as save:\n",
    "    game_data = {\n",
    "    'player-position' : 'N23 E45',\n",
    "    'pockets' : ['keys', 'pocket knife', 'polished stone'],\n",
    "    'backpack' : ['rope', 'hammer', 'apple'],\n",
    "    'money' : 158.50\n",
    "    }\n",
    "    pickle.dump(game_data,save) # . dump(data, save_file) used to write to files\n",
    "\n",
    "\n"
   ]
  },
  {
   "cell_type": "code",
   "execution_count": null,
   "metadata": {},
   "outputs": [],
   "source": [
    "# reads game data\n",
    "with open('save.dat', 'rb') as save:\n",
    "    game_data = {\n",
    "    'player-position' : 'N23 E45',\n",
    "    'pockets' : ['keys', 'pocket knife', 'polished stone'],\n",
    "    'backpack' : ['rope', 'hammer', 'apple'],\n",
    "    'money' : 158.50\n",
    "    }\n",
    "    print(pickle.load(save))\n"
   ]
  }
 ],
 "metadata": {
  "kernelspec": {
   "display_name": "Python 3",
   "language": "python",
   "name": "python3"
  },
  "language_info": {
   "codemirror_mode": {
    "name": "ipython",
    "version": 3
   },
   "file_extension": ".py",
   "mimetype": "text/x-python",
   "name": "python",
   "nbconvert_exporter": "python",
   "pygments_lexer": "ipython3",
   "version": "3.12.4"
  }
 },
 "nbformat": 4,
 "nbformat_minor": 2
}
