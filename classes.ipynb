{
 "cells": [
  {
   "cell_type": "code",
   "execution_count": 31,
   "metadata": {},
   "outputs": [
    {
     "name": "stdout",
     "output_type": "stream",
     "text": [
      "oEmployee('Eva','mSmithan','1000')\n"
     ]
    }
   ],
   "source": [
    "# this ia procedual way of defining methods of definig method(not beneficial)\n",
    "\n",
    "# emp1 = Employee()\n",
    "# emp2 = Employee()\n",
    "\n",
    "\n",
    "# emp1.firstName= \"tristan\"\n",
    "# emp1.lastName = \"emeana\"\n",
    "# emp1.email = \"johnsmith@gmail.com\"\n",
    "# emp1.pay = 50000\n",
    "\n",
    "# emp2.firstName= \"john\"\n",
    "# emp2.lastName = \"Smith\"\n",
    "# emp2.email = \"johnsmith@gmail.com\"\n",
    "# emp2.pay = 50000 !\n",
    "\n",
    "class oEmployee:# template of what an employee should have\n",
    "\n",
    "    raise_amount =1.04 # this is a instance  variable\n",
    "    num_of_employee = 0 #this is a class variable\n",
    "    all_obj = [] # stores the employee objects\n",
    "\n",
    "    def __init__(self,first,last,pay): # slef represents an instance(object) of a class\n",
    "        # actions to execute\n",
    "        self.first = first  # self. first is only a variable\n",
    "        self.last = last\n",
    "        self.email = f'{first}{last}@gmial.com' # attributes can be defined without having passing parameter in init function\n",
    "        self.pay = pay \n",
    "        oEmployee.num_of_employee +=1\n",
    "        oEmployee.all_obj.append(self)# adds each object to the class\n",
    "\n",
    "    def fullname(self):# a method of the employee class\n",
    "        return f'{self.first} {self.last}'\n",
    "\n",
    "    def apply_raise(self):\n",
    "        self.pay= self.pay + self.raise_amount\n",
    "        \n",
    "    def __repr__(self):# used to represent the objects in a customised way\n",
    "        return f\"oEmployee('{self.first}','{self.last}','{self.pay}')\"\n",
    "\n",
    "\n",
    "emp1= oEmployee('Eva','mSmithan',1000) # an employee object(an acuall employee)\n",
    "emp2= oEmployee(\"tristan\",\"emeana\",50000)\n",
    "emp3= oEmployee('harry','potter',1000) # an employee object(an acuall employee)\n",
    "emp4= oEmployee(\"Shadow\",\"Strike\",50000)\n",
    "emp5= oEmployee('Lord','X',1000) # an employee object(an acuall employee)\n",
    "\n",
    "\n",
    "print(emp1) #\n",
    "\n",
    "#for instance in oEmployee.all_obj: # \n",
    "   #print(instance.first)\n",
    "\n",
    "\n",
    "\n",
    "\n",
    "\n",
    "\n",
    "\n",
    "\n"
   ]
  },
  {
   "cell_type": "code",
   "execution_count": null,
   "metadata": {},
   "outputs": [],
   "source": []
  },
  {
   "cell_type": "code",
   "execution_count": 9,
   "metadata": {},
   "outputs": [
    {
     "name": "stdout",
     "output_type": "stream",
     "text": [
      "back foot forward\n"
     ]
    },
    {
     "ename": "NameError",
     "evalue": "name 'self' is not defined",
     "output_type": "error",
     "traceback": [
      "\u001b[1;31m---------------------------------------------------------------------------\u001b[0m",
      "\u001b[1;31mNameError\u001b[0m                                 Traceback (most recent call last)",
      "Cell \u001b[1;32mIn[9], line 27\u001b[0m\n\u001b[0;32m     23\u001b[0m reginald \u001b[38;5;241m=\u001b[39m oGiraffe()\n\u001b[0;32m     25\u001b[0m reginald\u001b[38;5;241m.\u001b[39mback_Foot_Forward()\n\u001b[1;32m---> 27\u001b[0m reginald\u001b[38;5;241m.\u001b[39mdance(\u001b[38;5;28;43mself\u001b[39;49m)\n",
      "\u001b[1;31mNameError\u001b[0m: name 'self' is not defined"
     ]
    }
   ],
   "source": [
    "import turtle\n",
    "t = turtle.Turtle()\n",
    "\n",
    "\n",
    "\n",
    "class oGiraffe:\n",
    " \n",
    "    def front(self):\n",
    "        print('left foot forward')\n",
    "\n",
    "    def right_Foot_Forward(self):\n",
    "        print('right foot forward')\n",
    "\n",
    "    def back_Foot_Forward(self):\n",
    "        print('back foot forward')\n",
    "\n",
    "    def front_Foot_Forward(self):\n",
    "        print('fornt foot forward')\n",
    "\n",
    "    def dance(self):\n",
    "        self.left_Foot_Forward()\n",
    "        self.right_Foot_Forward()\n",
    "        self.back_Foot_Forward()\n",
    "        self.front_Foot_Forward()\n",
    "\n",
    "\n",
    "\n",
    "reginald = oGiraffe()\n",
    "\n",
    "reginald.back_Foot_Forward()\n",
    "\n",
    "reginald.dance()"
   ]
  }
 ],
 "metadata": {
  "kernelspec": {
   "display_name": "Python 3",
   "language": "python",
   "name": "python3"
  },
  "language_info": {
   "codemirror_mode": {
    "name": "ipython",
    "version": 3
   },
   "file_extension": ".py",
   "mimetype": "text/x-python",
   "name": "python",
   "nbconvert_exporter": "python",
   "pygments_lexer": "ipython3",
   "version": "3.12.4"
  }
 },
 "nbformat": 4,
 "nbformat_minor": 2
}
