{
 "cells": [
  {
   "cell_type": "markdown",
   "metadata": {},
   "source": [
    "**strings**\n",
    "F strings are used to ink basic strings and variables.\n",
    "methods \n",
    "\n",
    "\n"
   ]
  },
  {
   "cell_type": "code",
   "execution_count": 12,
   "metadata": {},
   "outputs": [
    {
     "name": "stdout",
     "output_type": "stream",
     "text": [
      "hello,tristan EMEAMNA\n"
     ]
    }
   ],
   "source": [
    "#F strings\n",
    "#f srings alwys use a double quote\n",
    "# using the .method like .upper to change a string to capital\n",
    "first_name= 'tristan'\n",
    "second_name= 'emeamna'\n",
    "# a string can also be inserted into an f'string as shown\n",
    "full_name= f\"hello,{first_name} {second_name.upper()}\"# they are written like f\"{variable} {variable}\"\n",
    "print(full_name)"
   ]
  },
  {
   "cell_type": "code",
   "execution_count": 15,
   "metadata": {},
   "outputs": [
    {
     "name": "stdout",
     "output_type": "stream",
     "text": [
      "hello\n",
      "there\n"
     ]
    }
   ],
   "source": [
    "#stripping\n",
    "#this is like paragrping your code using \\n right before the item you want to chage to a new line\n",
    "print('hello\\nthere')"
   ]
  },
  {
   "cell_type": "code",
   "execution_count": 23,
   "metadata": {},
   "outputs": [
    {
     "data": {
      "text/plain": [
       "'python'"
      ]
     },
     "execution_count": 23,
     "metadata": {},
     "output_type": "execute_result"
    }
   ],
   "source": [
    "#whitespacing\n",
    "#giving space in a string\n",
    "# the .rstrip method delets any whitespace, from the right however this is temoary and should be put in a variable\n",
    "#and .lstrip removes any whitespace from the left\n",
    "# the .strip removes all whatespace\n",
    "\n",
    "favorite_lang= 'python   '\n",
    "favorite_lang.rstrip()"
   ]
  },
  {
   "cell_type": "code",
   "execution_count": 39,
   "metadata": {},
   "outputs": [
    {
     "data": {
      "text/plain": [
       "['blue orange ', 'hite']"
      ]
     },
     "execution_count": 39,
     "metadata": {},
     "output_type": "execute_result"
    }
   ],
   "source": [
    "#to speparate strings\n",
    "fav='blue orange white'\n",
    "fav.split('w')"
   ]
  }
 ],
 "metadata": {
  "kernelspec": {
   "display_name": "Python 3",
   "language": "python",
   "name": "python3"
  },
  "language_info": {
   "codemirror_mode": {
    "name": "ipython",
    "version": 3
   },
   "file_extension": ".py",
   "mimetype": "text/x-python",
   "name": "python",
   "nbconvert_exporter": "python",
   "pygments_lexer": "ipython3",
   "version": "3.12.4"
  }
 },
 "nbformat": 4,
 "nbformat_minor": 2
}
